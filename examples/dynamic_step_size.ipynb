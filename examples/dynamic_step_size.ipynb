{
  "cells": [
    {
      "cell_type": "code",
      "execution_count": null,
      "metadata": {
        "collapsed": false
      },
      "outputs": [],
      "source": [
        "%matplotlib inline"
      ]
    },
    {
      "attachments": {},
      "cell_type": "markdown",
      "metadata": {},
      "source": [
        "# Welcome to the Dynamic Step Size Notebook"
      ]
    },
    {
      "attachments": {},
      "cell_type": "markdown",
      "metadata": {},
      "source": [
        "Step size is the size of the step taken in integration. It is specified by the dt argument. It is an important consideration when simulating. Too large of a step size could result in wildly incorrect results, and two small of a step size can be computationally expensive!\n",
        "\n",
        "In this notebook we will showcase an example demonstrating ways to use the dynamic step size feature. This feature allows users to define a time-step that changes with time or state."
      ]
    },
    {
      "attachments": {},
      "cell_type": "markdown",
      "metadata": {},
      "source": [
        "First, we'll import the necessary packages."
      ]
    },
    {
      "cell_type": "code",
      "execution_count": null,
      "metadata": {},
      "outputs": [],
      "source": [
        "import matplotlib.pyplot as plt\n",
        "import numpy as np\n",
        "import math\n",
        "  \n",
        "# Using Numpy to create an array X\n",
        "X = np.arange(0, math.pi*2, 0.05)\n",
        "  \n",
        "# Assign variables to the y axis part of the curve\n",
        "y = np.sin(X)\n",
        "z = np.cos(X)\n",
        "  \n",
        "# Plotting both the curves simultaneously\n",
        "plt.plot(X, y, color='r', label='dynamic')\n",
        "plt.plot(X, z, color='g', label='static')\n",
        "  \n",
        "# Naming the x-axis, y-axis and the whole graph\n",
        "plt.xlabel(\"Angle\")\n",
        "plt.ylabel(\"Magnitude\")\n",
        "plt.title(\"Sine and Cosine functions\")\n",
        "  \n",
        "# Adding legend, which helps us recognize the curve according to it's color\n",
        "plt.legend()\n",
        "  \n",
        "# To load the display window\n",
        "plt.show()"
      ]
    },
    {
      "cell_type": "code",
      "execution_count": null,
      "metadata": {},
      "outputs": [],
      "source": [
        "import prog_models\n",
        "from prog_models.models.thrown_object import ThrownObject"
      ]
    },
    {
      "attachments": {},
      "cell_type": "markdown",
      "metadata": {},
      "source": [
        "### Example 1) Changing DT after a certain time"
      ]
    },
    {
      "attachments": {},
      "cell_type": "markdown",
      "metadata": {},
      "source": [
        "In this example, we will have a dt of 1 until 6 seconds, then we will change the dt to 0.5!\n",
        "\n",
        "First, we'll need to define an instance of a model. For this example, we will use the simple ThrownObject model."
      ]
    },
    {
      "cell_type": "code",
      "execution_count": null,
      "metadata": {},
      "outputs": [],
      "source": [
        "m = ThrownObject()"
      ]
    },
    {
      "attachments": {},
      "cell_type": "markdown",
      "metadata": {},
      "source": [
        "Now, we'll need to create a setup for simulation, which is done by creating the future_load function!"
      ]
    },
    {
      "cell_type": "code",
      "execution_count": null,
      "metadata": {},
      "outputs": [],
      "source": [
        "def future_load(t, x=None):\n",
        "    return {}"
      ]
    },
    {
      "attachments": {},
      "cell_type": "markdown",
      "metadata": {},
      "source": [
        "For our next step, let's define the dynamic step size function. This function will take in the current time and state, and return the desired dt.\n",
        "\n",
        "The function we'll create will change depending on the time. If the time is less than 6, we'll return 1, otherwise we'll return 0.5! We'll dub the function the `next_time` function."
      ]
    },
    {
      "cell_type": "code",
      "execution_count": null,
      "metadata": {},
      "outputs": [],
      "source": [
        "# f(x, t) -> (t, dt)\n",
        "def next_time(t, x):\n",
        "    if t < 6:\n",
        "        return 1\n",
        "    return 0.5"
      ]
    },
    {
      "attachments": {},
      "cell_type": "markdown",
      "metadata": {},
      "source": [
        "After creating the dynamic step size function, we can now create the simulated results! Here, we'll print every time step so we can see the step size change."
      ]
    },
    {
      "cell_type": "code",
      "execution_count": null,
      "metadata": {},
      "outputs": [],
      "source": [
        "simulated_results_dynamic = m.simulate_to_threshold(future_load, save_freq=1e-99, dt=next_time, threshold_keys=['impact'])\n",
        "simulated_results = m.simulate_to_threshold(future_load, save_freq=1e-99, dt = 1, threshold_keys=['impact'])\n",
        "plt.plot(simulated_results_dynamic.outputs, color='red', label='dynamic')\n",
        "plt.plot(simulated_results.outputs, color='blue', label='static')\n",
        "\n",
        "plt.legend()\n",
        "plt.show()"
      ]
    },
    {
      "attachments": {},
      "cell_type": "markdown",
      "metadata": {},
      "source": [
        "__NOTE__: Notice how the step size changes after 6 seconds, which in turn creates a different result for the output values of the ThrownObject Simulation!"
      ]
    },
    {
      "attachments": {},
      "cell_type": "markdown",
      "metadata": {},
      "source": [
        "### Example 2) DT Changes due to State Change"
      ]
    },
    {
      "attachments": {},
      "cell_type": "markdown",
      "metadata": {},
      "source": [
        "In this example, we will have a dt of 1 until impact state event of impact is less than 0.75, then we'll change our DT value to 0.25!\n",
        "\n",
        "We'll us the same ThrownObject from the first example, so we can skip the first couple steps and simply create the Dynamic Step Size function."
      ]
    },
    {
      "cell_type": "code",
      "execution_count": null,
      "metadata": {},
      "outputs": [],
      "source": [
        "# f(x, t) -> (t, dt)\n",
        "def next_time(t, x):\n",
        "    # In this example dt is a function of state. Uses a dt of 1 until impact event state 0.5, then 0.25\n",
        "    event_state = m.event_state(x)\n",
        "    if event_state['impact'] < 0.75:\n",
        "        return 0.25\n",
        "    return 1"
      ]
    },
    {
      "attachments": {},
      "cell_type": "markdown",
      "metadata": {},
      "source": [
        "Now, let's simulate the results once more and plot the results!"
      ]
    },
    {
      "cell_type": "code",
      "execution_count": null,
      "metadata": {},
      "outputs": [],
      "source": [
        "simulated_results_dynamic = m.simulate_to_threshold(future_load, save_freq=1e-99, dt=next_time, threshold_keys=['impact'])\n",
        "simulated_results = m.simulate_to_threshold(future_load, save_freq=1e-99, dt = 1, threshold_keys=['impact'])\n",
        "plt.plot(simulated_results_dynamic.outputs, color='red', label='dynamic')\n",
        "plt.plot(simulated_results.outputs, color='blue', label='static')\n",
        "\n",
        "plt.legend()\n",
        "plt.show()"
      ]
    },
    {
      "attachments": {},
      "cell_type": "markdown",
      "metadata": {},
      "source": [
        "In this notebook, we showed some examples of dynamically changing the step step size depending on either state or time. This feature is useful for simulating systems that have a changing dynamic behavior."
      ]
    }
  ],
  "metadata": {
    "kernelspec": {
      "display_name": "Python 3",
      "language": "python",
      "name": "python3"
    },
    "language_info": {
      "codemirror_mode": {
        "name": "ipython",
        "version": 3
      },
      "file_extension": ".py",
      "mimetype": "text/x-python",
      "name": "python",
      "nbconvert_exporter": "python",
      "pygments_lexer": "ipython3",
      "version": "3.10.8"
    }
  },
  "nbformat": 4,
  "nbformat_minor": 0
}

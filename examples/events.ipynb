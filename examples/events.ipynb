{
 "cells": [
  {
   "attachments": {},
   "cell_type": "markdown",
   "metadata": {},
   "source": [
    "# Welcome to the ProgPy Events Tutorial"
   ]
  },
  {
   "attachments": {},
   "cell_type": "markdown",
   "metadata": {},
   "source": [
    "#### `Event` is the term used to describe something to be predicted. Generally in the PHM community these are referred to as End of Life (EOL). However, they can be much more.\n",
    "\n",
    "In progpy, events can be anything that needs to be predicted. Events can represent End of Life (EOL), End of Mission (EOM), warning thresholds, or any Event of Interest (EOI). \n",
    "\n",
    "This example demonstrates how events can be used in your applications."
   ]
  },
  {
   "attachments": {},
   "cell_type": "markdown",
   "metadata": {},
   "source": [
    "### Importing Modules"
   ]
  },
  {
   "cell_type": "code",
   "execution_count": 27,
   "metadata": {},
   "outputs": [],
   "source": [
    "import matplotlib.pyplot as plt\n",
    "from progpy.loading import Piecewise\n",
    "from progpy.models import BatteryElectroChemEOD"
   ]
  },
  {
   "attachments": {},
   "cell_type": "markdown",
   "metadata": {},
   "source": [
    "### Example) Warning Thresholds"
   ]
  },
  {
   "attachments": {},
   "cell_type": "markdown",
   "metadata": {},
   "source": [
    "In this example we will use the battery model. We of course are interested in end of discharge, but for this example we have a requirement that says the battery must not fall below 5% State of Charge (SOC)!\n",
    "\n",
    "__Note__: SOC is the event state for the End of Discharge (EOD) event"
   ]
  },
  {
   "attachments": {},
   "cell_type": "markdown",
   "metadata": {},
   "source": [
    "Event states, like SOC go between 0 and 1, where 1 is healthy and at 0 the event has occurred. So, 5% SOC corresponds to an 'EOD' event state of 0.0.\n",
    "\n",
    "Additionally, we have two warning thresholds (yellow and red)"
   ]
  },
  {
   "cell_type": "code",
   "execution_count": 28,
   "metadata": {},
   "outputs": [],
   "source": [
    "YELLOW_THRESH = 0.15\n",
    "RED_THRESH = 0.1\n",
    "THRESHOLD = 0.05"
   ]
  },
  {
   "attachments": {},
   "cell_type": "markdown",
   "metadata": {},
   "source": [
    "#### Step 1: Extend the battery model to define the additional events"
   ]
  },
  {
   "attachments": {},
   "cell_type": "markdown",
   "metadata": {},
   "source": [
    "We will create a new class that extends from the BatteryElectroChemEOD Model and define the additional events!"
   ]
  },
  {
   "cell_type": "code",
   "execution_count": 29,
   "metadata": {},
   "outputs": [],
   "source": [
    "class MyBatt(BatteryElectroChemEOD):\n",
    "    events = BatteryElectroChemEOD.events + ['EOD_warn_yellow', 'EOD_warn_red', 'EOD_requirement_threshold']"
   ]
  },
  {
   "attachments": {},
   "cell_type": "markdown",
   "metadata": {},
   "source": [
    "Here, we are adding the warning thresholds to the BatteryElectroChemEOD Events."
   ]
  },
  {
   "attachments": {},
   "cell_type": "markdown",
   "metadata": {},
   "source": [
    "Now, let us redefine `event_state()` and `threshold_met()` functions to accommodate for the new events that were added."
   ]
  },
  {
   "cell_type": "code",
   "execution_count": 30,
   "metadata": {},
   "outputs": [],
   "source": [
    "def event_state(self, state):\n",
    "    # Get event state from parent\n",
    "    event_state = super(MyBatt, self).event_state(state)\n",
    "\n",
    "    # Add yellow, red, and failure states by scaling EOD state\n",
    "    # Here we scale so the threshold SOC is 0 by their associated events, while SOC of 1 is still 1\n",
    "    # For example, for yellow we want EOD_warn_yellow to be 1 when SOC is 1, and 0 when SOC is YELLOW_THRESH or lower\n",
    "    event_state['EOD_warn_yellow'] = (event_state['EOD']-YELLOW_THRESH)/(1-YELLOW_THRESH) \n",
    "    event_state['EOD_warn_red'] = (event_state['EOD']-RED_THRESH)/(1-RED_THRESH)\n",
    "    event_state['EOD_requirement_threshold'] = (event_state['EOD']-THRESHOLD)/(1-THRESHOLD)\n",
    "\n",
    "    # Return\n",
    "    return event_state"
   ]
  },
  {
   "cell_type": "code",
   "execution_count": 31,
   "metadata": {},
   "outputs": [],
   "source": [
    "def threshold_met(self, x):\n",
    "    # Get threshold met from parent\n",
    "    t_met = super(MyBatt, self).threshold_met(x)\n",
    "\n",
    "    # Add yell and red states from event_state\n",
    "    event_state = self.event_state(x)\n",
    "    t_met['EOD_warn_yellow'] = event_state['EOD_warn_yellow'] <= 0\n",
    "    t_met['EOD_warn_red'] = event_state['EOD_warn_red'] <= 0\n",
    "    t_met['EOD_requirement_threshold'] = event_state['EOD_requirement_threshold'] <= 0\n",
    "\n",
    "    return t_met"
   ]
  },
  {
   "attachments": {},
   "cell_type": "markdown",
   "metadata": {},
   "source": [
    "### Let's test the newly constructed model!"
   ]
  },
  {
   "cell_type": "code",
   "execution_count": 32,
   "metadata": {},
   "outputs": [],
   "source": [
    "m = MyBatt()"
   ]
  },
  {
   "attachments": {},
   "cell_type": "markdown",
   "metadata": {},
   "source": [
    "Now, we have to define the future_loading function to simulate the results of our model!\n",
    "\n",
    "We'll use a variable (piece-wise) future loading scheme. For a battery, future loading is in term of current 'i' in amps. "
   ]
  },
  {
   "cell_type": "code",
   "execution_count": 33,
   "metadata": {},
   "outputs": [],
   "source": [
    "future_loading = Piecewise(\n",
    "    m.InputContainer,\n",
    "    [600, 900, 1800, 3000, float('inf')],\n",
    "    {'i': [2, 1, 4, 2, 3]})"
   ]
  },
  {
   "attachments": {},
   "cell_type": "markdown",
   "metadata": {},
   "source": [
    "Finally, let's simulate our results to threshold!"
   ]
  },
  {
   "cell_type": "code",
   "execution_count": 36,
   "metadata": {},
   "outputs": [
    {
     "name": "stdout",
     "output_type": "stream",
     "text": [
      "Time: 0.0\n",
      "\tInput: {'i': 2.0}\n",
      "\tState: {'tb': 292.1, 'Vo': 0.0, 'Vsn': 0.0, 'Vsp': 0.0, 'qnB': 6840.0, 'qnS': 760.0, 'qpB': 4560.000000000001, 'qpS': 506.6666666666668}\n",
      "\tOutput: {'t': 18.950000000000045, 'v': 4.191350293826752}\n",
      "\tEvent State: {'EOD': 1.0}\n",
      "\n"
     ]
    },
    {
     "ename": "KeyError",
     "evalue": "'EOD_warn_yellow'",
     "output_type": "error",
     "traceback": [
      "\u001b[0;31m---------------------------------------------------------------------------\u001b[0m",
      "\u001b[0;31mKeyError\u001b[0m                                  Traceback (most recent call last)",
      "Cell \u001b[0;32mIn[36], line 1\u001b[0m\n\u001b[0;32m----> 1\u001b[0m simulated_results \u001b[39m=\u001b[39m m\u001b[39m.\u001b[39;49msimulate_to_threshold(future_loading, threshold_keys\u001b[39m=\u001b[39;49m[\u001b[39m'\u001b[39;49m\u001b[39mEOD\u001b[39;49m\u001b[39m'\u001b[39;49m, \u001b[39m'\u001b[39;49m\u001b[39mEOD_warn_yellow\u001b[39;49m\u001b[39m'\u001b[39;49m], \u001b[39mprint\u001b[39;49m \u001b[39m=\u001b[39;49m \u001b[39mTrue\u001b[39;49;00m)\n",
      "File \u001b[0;32m~/Desktop/progpy/src/progpy/prognostics_model.py:1093\u001b[0m, in \u001b[0;36mPrognosticsModel.simulate_to_threshold\u001b[0;34m(self, future_loading_eqn, first_output, threshold_keys, **kwargs)\u001b[0m\n\u001b[1;32m   1090\u001b[0m             last_percentage \u001b[39m=\u001b[39m converted_iteration\n\u001b[1;32m   1092\u001b[0m     \u001b[39m# Check thresholds\u001b[39;00m\n\u001b[0;32m-> 1093\u001b[0m     \u001b[39mif\u001b[39;00m check_thresholds(threshold_met_eqn(x)):\n\u001b[1;32m   1094\u001b[0m         \u001b[39mbreak\u001b[39;00m\n\u001b[1;32m   1096\u001b[0m \u001b[39m# Save final state\u001b[39;00m\n",
      "File \u001b[0;32m~/Desktop/progpy/src/progpy/prognostics_model.py:927\u001b[0m, in \u001b[0;36mPrognosticsModel.simulate_to_threshold.<locals>.check_thresholds\u001b[0;34m(thresholds_met)\u001b[0m\n\u001b[1;32m    926\u001b[0m \u001b[39mdef\u001b[39;00m \u001b[39mcheck_thresholds\u001b[39m(thresholds_met):\n\u001b[0;32m--> 927\u001b[0m     t_met \u001b[39m=\u001b[39m [thresholds_met[key] \u001b[39mfor\u001b[39;00m key \u001b[39min\u001b[39;00m threshold_keys]\n\u001b[1;32m    928\u001b[0m     \u001b[39mif\u001b[39;00m \u001b[39mlen\u001b[39m(t_met) \u001b[39m>\u001b[39m \u001b[39m0\u001b[39m \u001b[39mand\u001b[39;00m \u001b[39mnot\u001b[39;00m np\u001b[39m.\u001b[39misscalar(\u001b[39mlist\u001b[39m(t_met)[\u001b[39m0\u001b[39m]):\n\u001b[1;32m    929\u001b[0m         \u001b[39mreturn\u001b[39;00m np\u001b[39m.\u001b[39many(t_met)\n",
      "File \u001b[0;32m~/Desktop/progpy/src/progpy/prognostics_model.py:927\u001b[0m, in \u001b[0;36m<listcomp>\u001b[0;34m(.0)\u001b[0m\n\u001b[1;32m    926\u001b[0m \u001b[39mdef\u001b[39;00m \u001b[39mcheck_thresholds\u001b[39m(thresholds_met):\n\u001b[0;32m--> 927\u001b[0m     t_met \u001b[39m=\u001b[39m [thresholds_met[key] \u001b[39mfor\u001b[39;00m key \u001b[39min\u001b[39;00m threshold_keys]\n\u001b[1;32m    928\u001b[0m     \u001b[39mif\u001b[39;00m \u001b[39mlen\u001b[39m(t_met) \u001b[39m>\u001b[39m \u001b[39m0\u001b[39m \u001b[39mand\u001b[39;00m \u001b[39mnot\u001b[39;00m np\u001b[39m.\u001b[39misscalar(\u001b[39mlist\u001b[39m(t_met)[\u001b[39m0\u001b[39m]):\n\u001b[1;32m    929\u001b[0m         \u001b[39mreturn\u001b[39;00m np\u001b[39m.\u001b[39many(t_met)\n",
      "\u001b[0;31mKeyError\u001b[0m: 'EOD_warn_yellow'"
     ]
    }
   ],
   "source": [
    "simulated_results = m.simulate_to_threshold(future_loading, threshold_keys=['EOD', 'EOD_warn_yellow'], print = True)"
   ]
  },
  {
   "attachments": {},
   "cell_type": "markdown",
   "metadata": {},
   "source": [
    "Great, let's plot our simulated results and see how the events change overtime!"
   ]
  },
  {
   "cell_type": "code",
   "execution_count": 35,
   "metadata": {},
   "outputs": [
    {
     "data": {
      "image/png": "[encoded data removed]",
      "text/plain": [
       "<Figure size 1000x900 with 1 Axes>"
      ]
     },
     "metadata": {},
     "output_type": "display_data"
    }
   ],
   "source": [
    "simulated_results.event_states.plot()\n",
    "plt.show()"
   ]
  },
  {
   "cell_type": "code",
   "execution_count": null,
   "metadata": {},
   "outputs": [],
   "source": []
  }
 ],
 "metadata": {
  "kernelspec": {
   "display_name": "Python 3",
   "language": "python",
   "name": "python3"
  },
  "language_info": {
   "codemirror_mode": {
    "name": "ipython",
    "version": 3
   },
   "file_extension": ".py",
   "mimetype": "text/x-python",
   "name": "python",
   "nbconvert_exporter": "python",
   "pygments_lexer": "ipython3",
   "version": "3.10.8"
  },
  "orig_nbformat": 4
 },
 "nbformat": 4,
 "nbformat_minor": 2
}

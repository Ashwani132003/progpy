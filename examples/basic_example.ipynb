{
 "cells": [
  {
   "attachments": {},
   "cell_type": "markdown",
   "metadata": {},
   "source": [
    "# Welcome to ProgPy's basic example notebook!"
   ]
  },
  {
   "attachments": {},
   "cell_type": "markdown",
   "metadata": {},
   "source": [
    "This example extends the \"basic example\" to perform a state estimation and prediction with uncertainty given a more complicated model. Models, state estimators, and predictors can be switched out. See [documentation](nasa.github.io/progpy) for description of options.\n",
    "\n"
   ]
  },
  {
   "attachments": {},
   "cell_type": "markdown",
   "metadata": {},
   "source": [
    "Method: An instance of the BatteryCircuit model in progpy is created, and the prediction process is achieved in three steps:\n",
    "    \n",
    "1.  State estimation of the current state is performed using a chosen state_estimator, and samples are drawn from this estimate\n",
    "2.  Prediction of future states (with uncertainty) and the times at which the event threshold will be reached\n",
    "3.  Metrics tools are used to further investigate the results of prediction"
   ]
  },
  {
   "attachments": {},
   "cell_type": "markdown",
   "metadata": {},
   "source": [
    "Results: \n",
    "1. Predicted future values (inputs, states, outputs, event_states) with uncertainty from prediction\n",
    "2. Time event is predicted to occur (with uncertainty)\n",
    "3. Various prediction metrics\n",
    "4. Figures illustrating results"
   ]
  },
  {
   "attachments": {},
   "cell_type": "markdown",
   "metadata": {},
   "source": [
    "#### Importing Necessary Modules"
   ]
  },
  {
   "attachments": {},
   "cell_type": "markdown",
   "metadata": {},
   "source": [
    "For our demonstration, we'll have to import four modules from progpy. The first module is the model we'll be using to preform Prognostics, the second being the state estimate we'll use to estimate the current state of the system. The third module being the predictor we'll use to predict the future states of the system, and the fourth module is a module to calculate probability of success from the prediction metrics."
   ]
  },
  {
   "cell_type": "code",
   "execution_count": null,
   "metadata": {},
   "outputs": [],
   "source": [
    "from prog_models.models import BatteryCircuit as Battery\n",
    "\n",
    "from prog_algs.state_estimators import ParticleFilter as StateEstimator\n",
    "\n",
    "from prog_algs.predictors import MonteCarlo as Predictor\n",
    "\n",
    "from prog_algs.metrics import prob_success"
   ]
  },
  {
   "attachments": {},
   "cell_type": "markdown",
   "metadata": {},
   "source": [
    "### Step 1: Setup model & future loading"
   ]
  },
  {
   "attachments": {},
   "cell_type": "markdown",
   "metadata": {},
   "source": [
    "Firstly, we'll begin by defining the measurement noise for the outputs our system. We'll state that two specific parameters in our model, the `t` and `v` parameters, are the only parameters that are subject to this noise. We'll also define the noise for each of these parameters to be 2 and 0.02 respectively.\n",
    "\n",
    "Then, we can initialize our Battery model to have a process_noise of 0.25 for every state."
   ]
  },
  {
   "cell_type": "code",
   "execution_count": null,
   "metadata": {},
   "outputs": [],
   "source": [
    "# Measurement noise\n",
    "R_vars = {\n",
    "    't': 2,\n",
    "    'v': 0.02\n",
    "}\n",
    "\n",
    "batt = Battery(process_noise = 0.25, measurement_noise = R_vars)"
   ]
  },
  {
   "attachments": {},
   "cell_type": "markdown",
   "metadata": {},
   "source": [
    "For more information on what this particular Battery Model is, please refer to our [BatteryCircuit Documentation](https://nasa.github.io/progpy/api_ref/prog_models/IncludedModels.html#prog_models.models.BatteryCircuit).\n",
    "\n",
    "For more general information regarding what are Prognostics Models are, please refer to our [prog_models Guide](https://nasa.github.io/progpy/api_ref/prog_models/index.html)."
   ]
  },
  {
   "attachments": {},
   "cell_type": "markdown",
   "metadata": {},
   "source": [
    "Now, let's create the input containers outside of the function accelerates prediction."
   ]
  },
  {
   "cell_type": "code",
   "execution_count": null,
   "metadata": {},
   "outputs": [],
   "source": [
    "loads = [\n",
    "    batt.InputContainer({'i': 2}),\n",
    "    batt.InputContainer({'i': 1}),\n",
    "    batt.InputContainer({'i': 4}),\n",
    "    batt.InputContainer({'i': 2}),\n",
    "    batt.InputContainer({'i': 3})\n",
    "]"
   ]
  },
  {
   "attachments": {},
   "cell_type": "markdown",
   "metadata": {},
   "source": [
    "Finally, let's define the `future_loading()` function and initialize the state of our battery model to `initial_state`."
   ]
  },
  {
   "cell_type": "code",
   "execution_count": null,
   "metadata": {},
   "outputs": [],
   "source": [
    "def future_loading(t, x = None):\n",
    "    # Variable (piece-wise) future loading scheme \n",
    "    if (t < 600):\n",
    "        return loads[0]\n",
    "    elif (t < 900):\n",
    "        return loads[1]\n",
    "    elif (t < 1800):\n",
    "        return loads[2]\n",
    "    elif (t < 3000):\n",
    "        return loads[3]\n",
    "    return loads[-1]\n",
    "\n",
    "initial_state = batt.initialize()"
   ]
  },
  {
   "attachments": {},
   "cell_type": "markdown",
   "metadata": {},
   "source": [
    "### Step 2: Demonstrating State Estimator"
   ]
  },
  {
   "attachments": {},
   "cell_type": "markdown",
   "metadata": {},
   "source": [
    "Let's begin by defining the StateEstimator object by passing in the Battery Model and its initial state."
   ]
  },
  {
   "cell_type": "code",
   "execution_count": null,
   "metadata": {},
   "outputs": [],
   "source": [
    "filt = StateEstimator(batt, initial_state)"
   ]
  },
  {
   "attachments": {},
   "cell_type": "markdown",
   "metadata": {},
   "source": [
    "Before we make an estimations of future states, let's plot the current state of the system."
   ]
  },
  {
   "cell_type": "code",
   "execution_count": null,
   "metadata": {},
   "outputs": [],
   "source": [
    "print(\"Prior State:\", filt.x.mean)\n",
    "print('\\tSOC: ', batt.event_state(filt.x.mean)['EOD'])\n",
    "fig = filt.x.plot_scatter(label='prior')"
   ]
  },
  {
   "attachments": {},
   "cell_type": "markdown",
   "metadata": {},
   "source": [
    "Now, let's preform the state estimation step and plot the posterior results!"
   ]
  },
  {
   "cell_type": "code",
   "execution_count": null,
   "metadata": {},
   "outputs": [],
   "source": [
    "# State Estimation Step\n",
    "example_measurements = batt.OutputContainer({'t': 32.2, 'v': 3.915})\n",
    "t = 0.1\n",
    "u = future_loading(t)\n",
    "filt.estimate(t, u, example_measurements)"
   ]
  },
  {
   "cell_type": "code",
   "execution_count": null,
   "metadata": {},
   "outputs": [],
   "source": [
    "# Printing Results\n",
    "print(\"\\nPosterior State:\", filt.x.mean)\n",
    "print('\\tSOC: ', batt.event_state(filt.x.mean)['EOD'])\n",
    "filt.x.plot_scatter(fig=fig, label='posterior')  # Add posterior state to figure from prior state"
   ]
  },
  {
   "attachments": {},
   "cell_type": "markdown",
   "metadata": {},
   "source": [
    "For more information on State Estimation, please refer to our [State Estimation Guide](https://nasa.github.io/progpy/prog_algs_guide.html#state-estimation)."
   ]
  },
  {
   "attachments": {},
   "cell_type": "markdown",
   "metadata": {},
   "source": [
    "__`Note`__: in a prognostic application the above state estimation step would be repeated each time there is new data. Here we're doing one step to demonstrate how the state estimator is used"
   ]
  },
  {
   "attachments": {},
   "cell_type": "markdown",
   "metadata": {},
   "source": [
    "### Step 3: Demonstrating Predictor"
   ]
  },
  {
   "attachments": {},
   "cell_type": "markdown",
   "metadata": {},
   "source": [
    "To demonstrate the predictor, we must first setup the predictor object. We can do this by passing in the Battery Model."
   ]
  },
  {
   "attachments": {},
   "cell_type": "markdown",
   "metadata": {},
   "source": [
    "In our example, we are using are using the MonteCarlo method to make a prediction."
   ]
  },
  {
   "cell_type": "code",
   "execution_count": null,
   "metadata": {},
   "outputs": [],
   "source": [
    "mc = Predictor(batt)"
   ]
  },
  {
   "attachments": {},
   "cell_type": "markdown",
   "metadata": {},
   "source": [
    "Now, let's preform a prediction! We can call the `predict()` method on our predictor object and pass in the number of samples we want to use to make our prediction. In this example, we'll use 25 samples, a step size of 0.1, and a save frequency of 100."
   ]
  },
  {
   "cell_type": "code",
   "execution_count": null,
   "metadata": {},
   "outputs": [],
   "source": [
    "NUM_SAMPLES = 25\n",
    "STEP_SIZE = 0.1\n",
    "SAVE_FREQ = 100  # How often to save results\n",
    "mc_results = mc.predict(filt.x, future_loading, n_samples = NUM_SAMPLES, dt=STEP_SIZE, save_freq = SAVE_FREQ)\n",
    "print('ToE', mc_results.time_of_event.mean)"
   ]
  },
  {
   "attachments": {},
   "cell_type": "markdown",
   "metadata": {},
   "source": [
    "For more information on the `predict()` function, please refer to our [Prediction Documentation](https://nasa.github.io/progpy/prog_algs_guide.html#prediction)."
   ]
  },
  {
   "attachments": {},
   "cell_type": "markdown",
   "metadata": {},
   "source": [
    "Let's analyze the results of the prediction!\n",
    "\n",
    "__`Note`__: The results of a sample-based prediction can be accessed by sample, e.g., `predictor.results[0]` is the first sample. The results of a non-sample-based prediction can be accessed by calling the `predictor.results` attribute."
   ]
  },
  {
   "cell_type": "code",
   "execution_count": null,
   "metadata": {},
   "outputs": [],
   "source": [
    "from prog_algs.predictors import UnweightedSamplesPrediction\n",
    "if isinstance(mc_results, UnweightedSamplesPrediction):\n",
    "    states_sample_1 = mc_results.states[1]"
   ]
  },
  {
   "attachments": {},
   "cell_type": "markdown",
   "metadata": {},
   "source": [
    "Note, that the states_sample_1[n] corresponds to times[n] for the first sample"
   ]
  },
  {
   "attachments": {},
   "cell_type": "markdown",
   "metadata": {},
   "source": [
    "You can also access a state distribution at a specific time using the `snapshot()` function."
   ]
  },
  {
   "cell_type": "code",
   "execution_count": null,
   "metadata": {},
   "outputs": [],
   "source": [
    "states_time_1 = mc_results.states.snapshot(1)"
   ]
  },
  {
   "attachments": {},
   "cell_type": "markdown",
   "metadata": {},
   "source": [
    "Now you have all the samples corresponding to times[1]!"
   ]
  },
  {
   "attachments": {},
   "cell_type": "markdown",
   "metadata": {},
   "source": [
    "For more information on analyzing results of predictors, please refer to our [Analyzing Results Documentation](https://nasa.github.io/progpy/prog_algs_guide.html#analyzing-results)."
   ]
  },
  {
   "attachments": {},
   "cell_type": "markdown",
   "metadata": {},
   "source": [
    "### Reviewing Results"
   ]
  },
  {
   "attachments": {},
   "cell_type": "markdown",
   "metadata": {},
   "source": [
    "Now that we have our results, let's plot the results of our prediction!"
   ]
  },
  {
   "cell_type": "code",
   "execution_count": null,
   "metadata": {},
   "outputs": [],
   "source": [
    "print('Results: ')\n",
    "for i, time in enumerate(mc_results.times):\n",
    "    print('\\nt = {}'.format(time))\n",
    "    print('\\tu = {}'.format(mc_results.inputs.snapshot(i).mean))\n",
    "    print('\\tx = {}'.format(mc_results.states.snapshot(i).mean))\n",
    "    print('\\tz = {}'.format(mc_results.outputs.snapshot(i).mean))\n",
    "    print('\\tevent state = {}'.format(mc_results.event_states.snapshot(i).mean))"
   ]
  },
  {
   "attachments": {},
   "cell_type": "markdown",
   "metadata": {},
   "source": [
    "You can also access the final state (of type UncertainData), like so:"
   ]
  },
  {
   "cell_type": "code",
   "execution_count": null,
   "metadata": {},
   "outputs": [],
   "source": [
    "final_state = mc_results.time_of_event.final_state\n",
    "print('Final state @EOD: ', final_state['EOD'].mean)"
   ]
  },
  {
   "attachments": {},
   "cell_type": "markdown",
   "metadata": {},
   "source": [
    "You can also use the metrics package to generate some useful metrics on the result of a prediction"
   ]
  },
  {
   "cell_type": "code",
   "execution_count": null,
   "metadata": {},
   "outputs": [],
   "source": [
    "print(\"\\nEOD Prediction Metrics\")\n",
    "print('\\tPortion between 3005.2 and 3005.6: ', mc_results.time_of_event.percentage_in_bounds([3005.2, 3005.6]))\n",
    "print('\\tAssuming ground truth 3002.25: ', mc_results.time_of_event.metrics(ground_truth=3005.25))\n",
    "print('\\tP(Success) if mission ends at 3002.25: ', prob_success(mc_results.time_of_event, 3005.25))"
   ]
  },
  {
   "attachments": {},
   "cell_type": "markdown",
   "metadata": {},
   "source": [
    "Finally, we can also plot the state transition! Here we will plot the states at t0, 25% to ToE, 50% to ToE, 75% to ToE, and ToE"
   ]
  },
  {
   "cell_type": "code",
   "execution_count": null,
   "metadata": {},
   "outputs": [],
   "source": [
    "fig = mc_results.states.snapshot(0).plot_scatter(label = \"t={} s\".format(int(mc_results.times[0])))  # 0\n",
    "quarter_index = int(len(mc_results.times)/4)\n",
    "mc_results.states.snapshot(quarter_index).plot_scatter(fig = fig, label = \"t={} s\".format(int(mc_results.times[quarter_index])))  # 25%\n",
    "mc_results.states.snapshot(quarter_index*2).plot_scatter(fig = fig, label = \"t={} s\".format(int(mc_results.times[quarter_index*2])))  # 50%\n",
    "mc_results.states.snapshot(quarter_index*3).plot_scatter(fig = fig, label = \"t={} s\".format(int(mc_results.times[quarter_index*3])))  # 75%\n",
    "mc_results.states.snapshot(-1).plot_scatter(fig = fig, label = \"t={} s\".format(int(mc_results.times[-1])))  # 100%\n",
    "\n",
    "mc_results.time_of_event.plot_hist()\n"
   ]
  }
 ],
 "metadata": {
  "kernelspec": {
   "display_name": "Python 3",
   "language": "python",
   "name": "python3"
  },
  "language_info": {
   "codemirror_mode": {
    "name": "ipython",
    "version": 3
   },
   "file_extension": ".py",
   "mimetype": "text/x-python",
   "name": "python",
   "nbconvert_exporter": "python",
   "pygments_lexer": "ipython3",
   "version": "3.10.8"
  },
  "orig_nbformat": 4
 },
 "nbformat": 4,
 "nbformat_minor": 2
}
